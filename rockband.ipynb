{
 "cells": [
  {
   "cell_type": "markdown",
   "metadata": {},
   "source": [
    "# 1. Data reading and exploration"
   ]
  },
  {
   "cell_type": "code",
   "execution_count": 1,
   "metadata": {},
   "outputs": [],
   "source": [
    "import pandas as pd\n",
    "\n",
    "# Read in the song database .csv file. It's important to specify the encoding type\n",
    "df = pd.read_csv('rbdb.csv', encoding='latin')"
   ]
  },
  {
   "cell_type": "code",
   "execution_count": 2,
   "metadata": {},
   "outputs": [
    {
     "data": {
      "text/html": [
       "<div>\n",
       "<style scoped>\n",
       "    .dataframe tbody tr th:only-of-type {\n",
       "        vertical-align: middle;\n",
       "    }\n",
       "\n",
       "    .dataframe tbody tr th {\n",
       "        vertical-align: top;\n",
       "    }\n",
       "\n",
       "    .dataframe thead th {\n",
       "        text-align: right;\n",
       "    }\n",
       "</style>\n",
       "<table border=\"1\" class=\"dataframe\">\n",
       "  <thead>\n",
       "    <tr style=\"text-align: right;\">\n",
       "      <th></th>\n",
       "      <th>RBDB ID</th>\n",
       "      <th>Shortname</th>\n",
       "      <th>Title</th>\n",
       "      <th>Artist</th>\n",
       "      <th>Cover</th>\n",
       "      <th>Length</th>\n",
       "      <th>Year</th>\n",
       "      <th>Genre</th>\n",
       "      <th>BPM</th>\n",
       "      <th>Album</th>\n",
       "      <th>...</th>\n",
       "      <th>Keys Tier</th>\n",
       "      <th>Keys Rank</th>\n",
       "      <th>Keys Solos</th>\n",
       "      <th>Pro Guitar Tier</th>\n",
       "      <th>Pro Guitar Rank</th>\n",
       "      <th>Pro Bass Tier</th>\n",
       "      <th>Pro Bass Rank</th>\n",
       "      <th>Pro Keys Tier</th>\n",
       "      <th>Pro Keys Rank</th>\n",
       "      <th>Sources</th>\n",
       "    </tr>\n",
       "  </thead>\n",
       "  <tbody>\n",
       "    <tr>\n",
       "      <th>2769</th>\n",
       "      <td>1275</td>\n",
       "      <td>cherrybomb</td>\n",
       "      <td>Cherry Bomb</td>\n",
       "      <td>The Runaways</td>\n",
       "      <td>YES</td>\n",
       "      <td>2:22</td>\n",
       "      <td>1976.0</td>\n",
       "      <td>Punk</td>\n",
       "      <td>138.0</td>\n",
       "      <td>NaN</td>\n",
       "      <td>...</td>\n",
       "      <td>7</td>\n",
       "      <td>0</td>\n",
       "      <td>0</td>\n",
       "      <td>7</td>\n",
       "      <td>0</td>\n",
       "      <td>7</td>\n",
       "      <td>0</td>\n",
       "      <td>7</td>\n",
       "      <td>0</td>\n",
       "      <td>DLC</td>\n",
       "    </tr>\n",
       "    <tr>\n",
       "      <th>2770</th>\n",
       "      <td>1287</td>\n",
       "      <td>tomsawyer</td>\n",
       "      <td>Tom Sawyer</td>\n",
       "      <td>Rush</td>\n",
       "      <td>YES</td>\n",
       "      <td>4:52</td>\n",
       "      <td>1981.0</td>\n",
       "      <td>Prog</td>\n",
       "      <td>87.0</td>\n",
       "      <td>NaN</td>\n",
       "      <td>...</td>\n",
       "      <td>7</td>\n",
       "      <td>0</td>\n",
       "      <td>0</td>\n",
       "      <td>7</td>\n",
       "      <td>0</td>\n",
       "      <td>7</td>\n",
       "      <td>0</td>\n",
       "      <td>7</td>\n",
       "      <td>0</td>\n",
       "      <td>Rock Band 1</td>\n",
       "    </tr>\n",
       "    <tr>\n",
       "      <th>2771</th>\n",
       "      <td>1333</td>\n",
       "      <td>cherubrock</td>\n",
       "      <td>Cherub Rock</td>\n",
       "      <td>Smashing Pumpkins</td>\n",
       "      <td>NaN</td>\n",
       "      <td>5:05</td>\n",
       "      <td>1993.0</td>\n",
       "      <td>Alternative</td>\n",
       "      <td>92.0</td>\n",
       "      <td>Siamese Dream</td>\n",
       "      <td>...</td>\n",
       "      <td>7</td>\n",
       "      <td>0</td>\n",
       "      <td>0</td>\n",
       "      <td>7</td>\n",
       "      <td>0</td>\n",
       "      <td>7</td>\n",
       "      <td>0</td>\n",
       "      <td>7</td>\n",
       "      <td>0</td>\n",
       "      <td>Rock Band 1</td>\n",
       "    </tr>\n",
       "    <tr>\n",
       "      <th>2772</th>\n",
       "      <td>1357</td>\n",
       "      <td>blackholesun</td>\n",
       "      <td>Black Hole Sun</td>\n",
       "      <td>Soundgarden</td>\n",
       "      <td>NaN</td>\n",
       "      <td>5:34</td>\n",
       "      <td>1994.0</td>\n",
       "      <td>Grunge</td>\n",
       "      <td>51.0</td>\n",
       "      <td>Superunknown</td>\n",
       "      <td>...</td>\n",
       "      <td>7</td>\n",
       "      <td>0</td>\n",
       "      <td>0</td>\n",
       "      <td>7</td>\n",
       "      <td>0</td>\n",
       "      <td>7</td>\n",
       "      <td>0</td>\n",
       "      <td>7</td>\n",
       "      <td>0</td>\n",
       "      <td>Rock Band 1</td>\n",
       "    </tr>\n",
       "    <tr>\n",
       "      <th>2773</th>\n",
       "      <td>1426</td>\n",
       "      <td>vasoline</td>\n",
       "      <td>Vasoline</td>\n",
       "      <td>Stone Temple Pilots</td>\n",
       "      <td>NaN</td>\n",
       "      <td>3:01</td>\n",
       "      <td>1994.0</td>\n",
       "      <td>Alternative</td>\n",
       "      <td>85.0</td>\n",
       "      <td>Purple</td>\n",
       "      <td>...</td>\n",
       "      <td>7</td>\n",
       "      <td>0</td>\n",
       "      <td>0</td>\n",
       "      <td>7</td>\n",
       "      <td>0</td>\n",
       "      <td>7</td>\n",
       "      <td>0</td>\n",
       "      <td>7</td>\n",
       "      <td>0</td>\n",
       "      <td>Rock Band 1</td>\n",
       "    </tr>\n",
       "    <tr>\n",
       "      <th>2774</th>\n",
       "      <td>1446</td>\n",
       "      <td>ballroomblitz</td>\n",
       "      <td>Ballroom Blitz</td>\n",
       "      <td>Sweet</td>\n",
       "      <td>YES</td>\n",
       "      <td>4:06</td>\n",
       "      <td>1975.0</td>\n",
       "      <td>Glam</td>\n",
       "      <td>218.0</td>\n",
       "      <td>NaN</td>\n",
       "      <td>...</td>\n",
       "      <td>7</td>\n",
       "      <td>0</td>\n",
       "      <td>0</td>\n",
       "      <td>7</td>\n",
       "      <td>0</td>\n",
       "      <td>7</td>\n",
       "      <td>0</td>\n",
       "      <td>7</td>\n",
       "      <td>0</td>\n",
       "      <td>Rock Band 1</td>\n",
       "    </tr>\n",
       "    <tr>\n",
       "      <th>2775</th>\n",
       "      <td>1492</td>\n",
       "      <td>timmy</td>\n",
       "      <td>Timmy &amp; the Lords of the Underworld</td>\n",
       "      <td>Timmy &amp; the Lords of the Underworld</td>\n",
       "      <td>NaN</td>\n",
       "      <td>2:08</td>\n",
       "      <td>2000.0</td>\n",
       "      <td>Novelty</td>\n",
       "      <td>148.0</td>\n",
       "      <td>Timmy &amp; The Lords of the Underworld</td>\n",
       "      <td>...</td>\n",
       "      <td>7</td>\n",
       "      <td>0</td>\n",
       "      <td>0</td>\n",
       "      <td>7</td>\n",
       "      <td>0</td>\n",
       "      <td>7</td>\n",
       "      <td>0</td>\n",
       "      <td>7</td>\n",
       "      <td>0</td>\n",
       "      <td>Rock Band 1</td>\n",
       "    </tr>\n",
       "    <tr>\n",
       "      <th>2776</th>\n",
       "      <td>1531</td>\n",
       "      <td>seven_old</td>\n",
       "      <td>Seven</td>\n",
       "      <td>VAGIANT</td>\n",
       "      <td>NaN</td>\n",
       "      <td>4:15</td>\n",
       "      <td>2007.0</td>\n",
       "      <td>Rock</td>\n",
       "      <td>180.0</td>\n",
       "      <td>Public Display of Infection</td>\n",
       "      <td>...</td>\n",
       "      <td>7</td>\n",
       "      <td>0</td>\n",
       "      <td>0</td>\n",
       "      <td>7</td>\n",
       "      <td>0</td>\n",
       "      <td>7</td>\n",
       "      <td>0</td>\n",
       "      <td>7</td>\n",
       "      <td>0</td>\n",
       "      <td>Rock Band 1</td>\n",
       "    </tr>\n",
       "    <tr>\n",
       "      <th>2777</th>\n",
       "      <td>1594</td>\n",
       "      <td>jokerandthe</td>\n",
       "      <td>Joker &amp; The Thief</td>\n",
       "      <td>Wolfmother</td>\n",
       "      <td>NaN</td>\n",
       "      <td>4:42</td>\n",
       "      <td>2005.0</td>\n",
       "      <td>Rock</td>\n",
       "      <td>143.0</td>\n",
       "      <td>Wolfmother</td>\n",
       "      <td>...</td>\n",
       "      <td>7</td>\n",
       "      <td>0</td>\n",
       "      <td>0</td>\n",
       "      <td>7</td>\n",
       "      <td>0</td>\n",
       "      <td>7</td>\n",
       "      <td>0</td>\n",
       "      <td>7</td>\n",
       "      <td>0</td>\n",
       "      <td>Rock Band Track Pack: Vol. 1, DLC</td>\n",
       "    </tr>\n",
       "    <tr>\n",
       "      <th>2778</th>\n",
       "      <td>1601</td>\n",
       "      <td>maps</td>\n",
       "      <td>Maps</td>\n",
       "      <td>Yeah Yeah Yeahs</td>\n",
       "      <td>NaN</td>\n",
       "      <td>3:22</td>\n",
       "      <td>2003.0</td>\n",
       "      <td>Indie Rock</td>\n",
       "      <td>120.0</td>\n",
       "      <td>Fever to Tell</td>\n",
       "      <td>...</td>\n",
       "      <td>7</td>\n",
       "      <td>0</td>\n",
       "      <td>0</td>\n",
       "      <td>7</td>\n",
       "      <td>0</td>\n",
       "      <td>7</td>\n",
       "      <td>0</td>\n",
       "      <td>7</td>\n",
       "      <td>0</td>\n",
       "      <td>Rock Band 1</td>\n",
       "    </tr>\n",
       "  </tbody>\n",
       "</table>\n",
       "<p>10 rows × 38 columns</p>\n",
       "</div>"
      ],
      "text/plain": [
       "      RBDB ID      Shortname                                Title  \\\n",
       "2769     1275     cherrybomb                          Cherry Bomb   \n",
       "2770     1287      tomsawyer                           Tom Sawyer   \n",
       "2771     1333     cherubrock                          Cherub Rock   \n",
       "2772     1357   blackholesun                       Black Hole Sun   \n",
       "2773     1426       vasoline                             Vasoline   \n",
       "2774     1446  ballroomblitz                       Ballroom Blitz   \n",
       "2775     1492          timmy  Timmy & the Lords of the Underworld   \n",
       "2776     1531      seven_old                                Seven   \n",
       "2777     1594    jokerandthe                    Joker & The Thief   \n",
       "2778     1601           maps                                 Maps   \n",
       "\n",
       "                                   Artist Cover Length    Year        Genre  \\\n",
       "2769                         The Runaways   YES   2:22  1976.0         Punk   \n",
       "2770                                 Rush   YES   4:52  1981.0         Prog   \n",
       "2771                    Smashing Pumpkins   NaN   5:05  1993.0  Alternative   \n",
       "2772                          Soundgarden   NaN   5:34  1994.0       Grunge   \n",
       "2773                  Stone Temple Pilots   NaN   3:01  1994.0  Alternative   \n",
       "2774                                Sweet   YES   4:06  1975.0         Glam   \n",
       "2775  Timmy & the Lords of the Underworld   NaN   2:08  2000.0      Novelty   \n",
       "2776                              VAGIANT   NaN   4:15  2007.0         Rock   \n",
       "2777                           Wolfmother   NaN   4:42  2005.0         Rock   \n",
       "2778                      Yeah Yeah Yeahs   NaN   3:22  2003.0   Indie Rock   \n",
       "\n",
       "        BPM                                Album  ...  Keys Tier  Keys Rank  \\\n",
       "2769  138.0                                  NaN  ...          7          0   \n",
       "2770   87.0                                  NaN  ...          7          0   \n",
       "2771   92.0                        Siamese Dream  ...          7          0   \n",
       "2772   51.0                         Superunknown  ...          7          0   \n",
       "2773   85.0                               Purple  ...          7          0   \n",
       "2774  218.0                                  NaN  ...          7          0   \n",
       "2775  148.0  Timmy & The Lords of the Underworld  ...          7          0   \n",
       "2776  180.0          Public Display of Infection  ...          7          0   \n",
       "2777  143.0                           Wolfmother  ...          7          0   \n",
       "2778  120.0                        Fever to Tell  ...          7          0   \n",
       "\n",
       "      Keys Solos Pro Guitar Tier  Pro Guitar Rank  Pro Bass Tier  \\\n",
       "2769           0               7                0              7   \n",
       "2770           0               7                0              7   \n",
       "2771           0               7                0              7   \n",
       "2772           0               7                0              7   \n",
       "2773           0               7                0              7   \n",
       "2774           0               7                0              7   \n",
       "2775           0               7                0              7   \n",
       "2776           0               7                0              7   \n",
       "2777           0               7                0              7   \n",
       "2778           0               7                0              7   \n",
       "\n",
       "     Pro Bass Rank  Pro Keys Tier Pro Keys Rank  \\\n",
       "2769             0              7             0   \n",
       "2770             0              7             0   \n",
       "2771             0              7             0   \n",
       "2772             0              7             0   \n",
       "2773             0              7             0   \n",
       "2774             0              7             0   \n",
       "2775             0              7             0   \n",
       "2776             0              7             0   \n",
       "2777             0              7             0   \n",
       "2778             0              7             0   \n",
       "\n",
       "                                Sources  \n",
       "2769                                DLC  \n",
       "2770                        Rock Band 1  \n",
       "2771                        Rock Band 1  \n",
       "2772                        Rock Band 1  \n",
       "2773                        Rock Band 1  \n",
       "2774                        Rock Band 1  \n",
       "2775                        Rock Band 1  \n",
       "2776                        Rock Band 1  \n",
       "2777  Rock Band Track Pack: Vol. 1, DLC  \n",
       "2778                        Rock Band 1  \n",
       "\n",
       "[10 rows x 38 columns]"
      ]
     },
     "execution_count": 2,
     "metadata": {},
     "output_type": "execute_result"
    }
   ],
   "source": [
    "# Take a peek at the last 10 entries (first few entries are of songs to be announced)\n",
    "df.tail(10)"
   ]
  },
  {
   "cell_type": "code",
   "execution_count": 3,
   "metadata": {},
   "outputs": [
    {
     "name": "stdout",
     "output_type": "stream",
     "text": [
      "Index(['RBDB ID', 'Shortname', 'Title', 'Artist', 'Cover', 'Length', 'Year',\n",
      "       'Genre', 'BPM', 'Album', 'Track', 'Band Tier', 'Band Rank',\n",
      "       'Rock Ending', 'Vocal Tier', 'Vocal Rank', 'Vocal Gender',\n",
      "       'Vocal Parts', 'Vocal Percussion', 'Guitar Tier', 'Guitar Rank',\n",
      "       'Guitar Solos', 'Bass Tier', 'Bass Rank', 'Bass Solos', 'Drums Tier',\n",
      "       'Drums Rank', 'Drums Solos', 'Keys Tier', 'Keys Rank', 'Keys Solos',\n",
      "       'Pro Guitar Tier', 'Pro Guitar Rank', 'Pro Bass Tier', 'Pro Bass Rank',\n",
      "       'Pro Keys Tier', 'Pro Keys Rank', 'Sources'],\n",
      "      dtype='object')\n"
     ]
    }
   ],
   "source": [
    "# What kinds of info do we have about each song?\n",
    "print(df.columns)"
   ]
  },
  {
   "cell_type": "code",
   "execution_count": 4,
   "metadata": {},
   "outputs": [
    {
     "name": "stdout",
     "output_type": "stream",
     "text": [
      "(2779, 38)\n"
     ]
    }
   ],
   "source": [
    "# How many (songs, features) are we dealing with?\n",
    "print(df.shape)"
   ]
  },
  {
   "cell_type": "code",
   "execution_count": 5,
   "metadata": {},
   "outputs": [
    {
     "name": "stdout",
     "output_type": "stream",
     "text": [
      "count    2771.000000\n",
      "mean     1995.392999\n",
      "std        15.106087\n",
      "min      1955.000000\n",
      "25%      1982.000000\n",
      "50%      1999.000000\n",
      "75%      2008.000000\n",
      "max      2019.000000\n",
      "Name: Year, dtype: float64 \n",
      "\n",
      "count    2771.000000\n",
      "mean      124.430891\n",
      "std        32.635596\n",
      "min        51.000000\n",
      "25%       100.000000\n",
      "50%       122.000000\n",
      "75%       144.000000\n",
      "max       278.000000\n",
      "Name: BPM, dtype: float64 \n",
      "\n",
      "count    2779.000000\n",
      "mean        2.977690\n",
      "std         1.829742\n",
      "min         0.000000\n",
      "25%         1.000000\n",
      "50%         3.000000\n",
      "75%         4.000000\n",
      "max         8.000000\n",
      "Name: Band Tier, dtype: float64 \n",
      "\n"
     ]
    }
   ],
   "source": [
    "# We can get an overview of basic statistics of the data with the handy describe().\n",
    "# We can call describe() on the whole dataframe or just on certain columns:\n",
    "for item in ['Year', 'BPM', 'Band Tier']:\n",
    "    print(df[item].describe(), '\\n')"
   ]
  },
  {
   "cell_type": "code",
   "execution_count": 6,
   "metadata": {},
   "outputs": [],
   "source": [
    "# Is there a hard threshold of band rank separating band tiers?\n",
    "\n",
    "# Key: band tier, Val: Pandas row with row number and band rank\n",
    "band_ranks = {}\n",
    "\n",
    "for i in range(0, 7): # Band ranks 0-6 inclusive\n",
    "    band_ranks[i] = df.loc[df['Band Tier'] == i]['Band Rank']"
   ]
  },
  {
   "cell_type": "code",
   "execution_count": 7,
   "metadata": {},
   "outputs": [
    {
     "name": "stdout",
     "output_type": "stream",
     "text": [
      "Band tier  0  min/max:  68.0 / 163.0\n",
      "Band tier  1  min/max:  164.0 / 213.0\n",
      "Band tier  2  min/max:  214.0 / 241.0\n",
      "Band tier  3  min/max:  242.0 / 265.0\n",
      "Band tier  4  min/max:  266.0 / 290.0\n",
      "Band tier  5  min/max:  291.0 / 343.0\n",
      "Band tier  6  min/max:  344.0 / 600.0\n"
     ]
    }
   ],
   "source": [
    "# Examining thresholds\n",
    "for i in range(0, 7):\n",
    "    print('Band tier ', i, ' min/max: ', min(band_ranks[i]), '/', max(band_ranks[i]))"
   ]
  },
  {
   "cell_type": "markdown",
   "metadata": {},
   "source": [
    "### There does seem to be clear thresholds of band tier. It's also worth noting that multiple songs can have the same band rank."
   ]
  },
  {
   "cell_type": "markdown",
   "metadata": {},
   "source": [
    "# 2. Data cleaning"
   ]
  },
  {
   "cell_type": "markdown",
   "metadata": {},
   "source": [
    "### If tier = 8, the song is to be announced or exists but has no song information. If tier = 7, there is no part for that instrument. If tier = 6, it's max difficulty (devil skulls). If tier = 0, it's min difficulty."
   ]
  },
  {
   "cell_type": "code",
   "execution_count": 8,
   "metadata": {},
   "outputs": [],
   "source": [
    "# Remove songs with no information i.e. with Band Tier == 8\n",
    "df = df.loc[df['Band Tier'] != 8]"
   ]
  },
  {
   "cell_type": "code",
   "execution_count": 9,
   "metadata": {},
   "outputs": [],
   "source": [
    "# Only some columns are useful in predicting band rank; retain these\n",
    "df = df[['Length', 'BPM', 'Band Tier', 'Band Rank', 'Vocal Tier', 'Vocal Rank',\\\n",
    "        'Vocal Gender', 'Guitar Tier', 'Guitar Rank', 'Guitar Solos',\\\n",
    "        'Bass Tier', 'Bass Rank', 'Bass Solos', 'Drums Tier', 'Drums Rank',\\\n",
    "        'Drums Solos', 'Keys Tier', 'Keys Rank', 'Keys Solos', 'Shortname', 'Genre']]"
   ]
  },
  {
   "cell_type": "code",
   "execution_count": 10,
   "metadata": {},
   "outputs": [],
   "source": [
    "# Convert 'Length' column to seconds \n",
    "def lengthToSeconds(length):\n",
    "    minutes, seconds = length.split(':')\n",
    "    return int(minutes)*60 + int(seconds)\n",
    "\n",
    "df['Length'] = df['Length'].apply(lengthToSeconds) "
   ]
  },
  {
   "cell_type": "code",
   "execution_count": 11,
   "metadata": {},
   "outputs": [
    {
     "name": "stdout",
     "output_type": "stream",
     "text": [
      "All songs:  2762\n",
      "Songs with parts for the 4 original instruments:  2726\n"
     ]
    }
   ],
   "source": [
    "# Retain only songs that have guitar/bass/drums/vocals parts\n",
    "print('All songs: ', df.shape[0])\n",
    "df_band = df[(df['Guitar Tier'] < 7) & (df['Bass Tier'] < 7) &\\\n",
    "                (df['Drums Tier'] < 7) & (df['Vocal Tier'] < 7)]\n",
    "print('Songs with parts for the 4 original instruments: ', df_band.shape[0])"
   ]
  },
  {
   "cell_type": "code",
   "execution_count": 12,
   "metadata": {},
   "outputs": [
    {
     "name": "stdout",
     "output_type": "stream",
     "text": [
      "All songs:  2762\n",
      "Songs with parts for all 5 instruments:  495\n"
     ]
    }
   ],
   "source": [
    "# What about with all 5 instruments?\n",
    "print('All songs: ', df.shape[0])\n",
    "df_band5 = df[(df['Guitar Tier'] < 7) & (df['Bass Tier'] < 7) &\\\n",
    "                (df['Drums Tier'] < 7) & (df['Vocal Tier'] < 7) &\\\n",
    "            (df['Keys Tier'] < 7)]\n",
    "print('Songs with parts for all 5 instruments: ', df_band5.shape[0])"
   ]
  },
  {
   "cell_type": "code",
   "execution_count": 13,
   "metadata": {},
   "outputs": [
    {
     "data": {
      "text/html": [
       "<div>\n",
       "<style scoped>\n",
       "    .dataframe tbody tr th:only-of-type {\n",
       "        vertical-align: middle;\n",
       "    }\n",
       "\n",
       "    .dataframe tbody tr th {\n",
       "        vertical-align: top;\n",
       "    }\n",
       "\n",
       "    .dataframe thead th {\n",
       "        text-align: right;\n",
       "    }\n",
       "</style>\n",
       "<table border=\"1\" class=\"dataframe\">\n",
       "  <thead>\n",
       "    <tr style=\"text-align: right;\">\n",
       "      <th></th>\n",
       "      <th>Length</th>\n",
       "      <th>BPM</th>\n",
       "      <th>Band Tier</th>\n",
       "      <th>Band Rank</th>\n",
       "      <th>Vocal Tier</th>\n",
       "      <th>Vocal Rank</th>\n",
       "      <th>Vocal Gender</th>\n",
       "      <th>Guitar Tier</th>\n",
       "      <th>Guitar Rank</th>\n",
       "      <th>Guitar Solos</th>\n",
       "      <th>...</th>\n",
       "      <th>Bass Rank</th>\n",
       "      <th>Bass Solos</th>\n",
       "      <th>Drums Tier</th>\n",
       "      <th>Drums Rank</th>\n",
       "      <th>Drums Solos</th>\n",
       "      <th>Keys Tier</th>\n",
       "      <th>Keys Rank</th>\n",
       "      <th>Keys Solos</th>\n",
       "      <th>Shortname</th>\n",
       "      <th>Genre</th>\n",
       "    </tr>\n",
       "  </thead>\n",
       "  <tbody>\n",
       "    <tr>\n",
       "      <th>8</th>\n",
       "      <td>408</td>\n",
       "      <td>145.0</td>\n",
       "      <td>6</td>\n",
       "      <td>458.0</td>\n",
       "      <td>5</td>\n",
       "      <td>420.0</td>\n",
       "      <td>Male</td>\n",
       "      <td>6</td>\n",
       "      <td>590.0</td>\n",
       "      <td>6.0</td>\n",
       "      <td>...</td>\n",
       "      <td>355.0</td>\n",
       "      <td>0.0</td>\n",
       "      <td>6</td>\n",
       "      <td>580.0</td>\n",
       "      <td>0.0</td>\n",
       "      <td>7</td>\n",
       "      <td>0</td>\n",
       "      <td>0</td>\n",
       "      <td>highwaytooblivion</td>\n",
       "      <td>Metal</td>\n",
       "    </tr>\n",
       "    <tr>\n",
       "      <th>10</th>\n",
       "      <td>266</td>\n",
       "      <td>147.0</td>\n",
       "      <td>3</td>\n",
       "      <td>255.0</td>\n",
       "      <td>4</td>\n",
       "      <td>320.0</td>\n",
       "      <td>Male</td>\n",
       "      <td>3</td>\n",
       "      <td>240.0</td>\n",
       "      <td>1.0</td>\n",
       "      <td>...</td>\n",
       "      <td>198.0</td>\n",
       "      <td>0.0</td>\n",
       "      <td>2</td>\n",
       "      <td>160.0</td>\n",
       "      <td>0.0</td>\n",
       "      <td>7</td>\n",
       "      <td>0</td>\n",
       "      <td>0</td>\n",
       "      <td>sugarhoneyiceandtea</td>\n",
       "      <td>Nu-Metal</td>\n",
       "    </tr>\n",
       "    <tr>\n",
       "      <th>11</th>\n",
       "      <td>209</td>\n",
       "      <td>90.0</td>\n",
       "      <td>4</td>\n",
       "      <td>285.0</td>\n",
       "      <td>5</td>\n",
       "      <td>360.0</td>\n",
       "      <td>Male</td>\n",
       "      <td>4</td>\n",
       "      <td>303.0</td>\n",
       "      <td>1.0</td>\n",
       "      <td>...</td>\n",
       "      <td>260.0</td>\n",
       "      <td>0.0</td>\n",
       "      <td>4</td>\n",
       "      <td>245.0</td>\n",
       "      <td>0.0</td>\n",
       "      <td>7</td>\n",
       "      <td>0</td>\n",
       "      <td>0</td>\n",
       "      <td>whenimgone2</td>\n",
       "      <td>Rock</td>\n",
       "    </tr>\n",
       "    <tr>\n",
       "      <th>12</th>\n",
       "      <td>195</td>\n",
       "      <td>78.0</td>\n",
       "      <td>2</td>\n",
       "      <td>229.0</td>\n",
       "      <td>3</td>\n",
       "      <td>244.0</td>\n",
       "      <td>Female</td>\n",
       "      <td>2</td>\n",
       "      <td>199.0</td>\n",
       "      <td>0.0</td>\n",
       "      <td>...</td>\n",
       "      <td>155.0</td>\n",
       "      <td>0.0</td>\n",
       "      <td>4</td>\n",
       "      <td>252.0</td>\n",
       "      <td>0.0</td>\n",
       "      <td>7</td>\n",
       "      <td>0</td>\n",
       "      <td>0</td>\n",
       "      <td>21her</td>\n",
       "      <td>R&amp;B/Soul/Funk</td>\n",
       "    </tr>\n",
       "    <tr>\n",
       "      <th>14</th>\n",
       "      <td>161</td>\n",
       "      <td>136.0</td>\n",
       "      <td>1</td>\n",
       "      <td>203.0</td>\n",
       "      <td>2</td>\n",
       "      <td>203.0</td>\n",
       "      <td>Male</td>\n",
       "      <td>1</td>\n",
       "      <td>151.0</td>\n",
       "      <td>0.0</td>\n",
       "      <td>...</td>\n",
       "      <td>59.0</td>\n",
       "      <td>0.0</td>\n",
       "      <td>3</td>\n",
       "      <td>198.0</td>\n",
       "      <td>0.0</td>\n",
       "      <td>7</td>\n",
       "      <td>0</td>\n",
       "      <td>0</td>\n",
       "      <td>oldtownroad</td>\n",
       "      <td>Country</td>\n",
       "    </tr>\n",
       "  </tbody>\n",
       "</table>\n",
       "<p>5 rows × 21 columns</p>\n",
       "</div>"
      ],
      "text/plain": [
       "    Length    BPM  Band Tier  Band Rank  Vocal Tier  Vocal Rank Vocal Gender  \\\n",
       "8      408  145.0          6      458.0           5       420.0         Male   \n",
       "10     266  147.0          3      255.0           4       320.0         Male   \n",
       "11     209   90.0          4      285.0           5       360.0         Male   \n",
       "12     195   78.0          2      229.0           3       244.0       Female   \n",
       "14     161  136.0          1      203.0           2       203.0         Male   \n",
       "\n",
       "    Guitar Tier  Guitar Rank  Guitar Solos  ...  Bass Rank  Bass Solos  \\\n",
       "8             6        590.0           6.0  ...      355.0         0.0   \n",
       "10            3        240.0           1.0  ...      198.0         0.0   \n",
       "11            4        303.0           1.0  ...      260.0         0.0   \n",
       "12            2        199.0           0.0  ...      155.0         0.0   \n",
       "14            1        151.0           0.0  ...       59.0         0.0   \n",
       "\n",
       "    Drums Tier  Drums Rank  Drums Solos  Keys Tier  Keys Rank  Keys Solos  \\\n",
       "8            6       580.0          0.0          7          0           0   \n",
       "10           2       160.0          0.0          7          0           0   \n",
       "11           4       245.0          0.0          7          0           0   \n",
       "12           4       252.0          0.0          7          0           0   \n",
       "14           3       198.0          0.0          7          0           0   \n",
       "\n",
       "              Shortname          Genre  \n",
       "8     highwaytooblivion          Metal  \n",
       "10  sugarhoneyiceandtea       Nu-Metal  \n",
       "11          whenimgone2           Rock  \n",
       "12                21her  R&B/Soul/Funk  \n",
       "14          oldtownroad        Country  \n",
       "\n",
       "[5 rows x 21 columns]"
      ]
     },
     "execution_count": 13,
     "metadata": {},
     "output_type": "execute_result"
    }
   ],
   "source": [
    "df_band.head() # Let's look at the cleaned dataframe"
   ]
  },
  {
   "cell_type": "markdown",
   "metadata": {},
   "source": [
    "### There are less than a fifth as many songs with all 5 instruments than there are with the original 4 (guitar, drums, bass and vocals), so we'll focus analysis on the latter subset of songs"
   ]
  },
  {
   "cell_type": "markdown",
   "metadata": {},
   "source": [
    "# 3. Predicting a song's Band Tier"
   ]
  },
  {
   "cell_type": "markdown",
   "metadata": {},
   "source": [
    "### Now that we have a handle on the data intuitively, let's now treat each data point (song) as a tuple of features used for prediction (individual instrument difficulties) and the variable we want to predict (band difficulty)."
   ]
  },
  {
   "cell_type": "code",
   "execution_count": 199,
   "metadata": {},
   "outputs": [],
   "source": [
    "import numpy as np\n",
    "\n",
    "num_songs = len(df_band)\n",
    "num_features = 4\n",
    "\n",
    "data = np.zeros((num_songs, num_features))\n",
    "target = np.zeros((num_songs))\n",
    "\n",
    "i = 0\n",
    "for _, row in df_band.iterrows():\n",
    "    data[i] = [row['Guitar Rank'], row['Drums Rank'], row['Bass Rank'], row['Vocal Rank']]\n",
    "    target[i] = row['Band Rank']\n",
    "    i += 1"
   ]
  },
  {
   "cell_type": "code",
   "execution_count": 200,
   "metadata": {},
   "outputs": [
    {
     "name": "stdout",
     "output_type": "stream",
     "text": [
      "True\n",
      "True\n"
     ]
    }
   ],
   "source": [
    "print(np.isnan(data).any())\n",
    "print(np.isnan(target).any())"
   ]
  },
  {
   "cell_type": "code",
   "execution_count": 201,
   "metadata": {},
   "outputs": [
    {
     "name": "stdout",
     "output_type": "stream",
     "text": [
      "[[1844    0]\n",
      " [1844    1]\n",
      " [1844    2]\n",
      " [1844    3]]\n",
      "[[1844]]\n"
     ]
    }
   ],
   "source": [
    "print(np.argwhere(np.isnan(data)))\n",
    "print(np.argwhere(np.isnan(target)))"
   ]
  },
  {
   "cell_type": "code",
   "execution_count": 202,
   "metadata": {},
   "outputs": [],
   "source": [
    "data = np.delete(data, 1844, axis=0)\n",
    "target = np.delete(target, 1844)"
   ]
  },
  {
   "cell_type": "code",
   "execution_count": 203,
   "metadata": {},
   "outputs": [
    {
     "name": "stdout",
     "output_type": "stream",
     "text": [
      "False\n",
      "False\n"
     ]
    }
   ],
   "source": [
    "print(np.isnan(data).any())\n",
    "print(np.isnan(target).any())"
   ]
  },
  {
   "cell_type": "code",
   "execution_count": 204,
   "metadata": {},
   "outputs": [
    {
     "name": "stdout",
     "output_type": "stream",
     "text": [
      "(2725, 4)\n",
      "(2725,)\n"
     ]
    }
   ],
   "source": [
    "print(data.shape)\n",
    "print(target.shape)\n",
    "num_songs -= 1"
   ]
  },
  {
   "cell_type": "markdown",
   "metadata": {},
   "source": [
    "### We can preprocess the data"
   ]
  },
  {
   "cell_type": "code",
   "execution_count": 205,
   "metadata": {},
   "outputs": [
    {
     "name": "stdout",
     "output_type": "stream",
     "text": [
      "Data before standardization: \n",
      " [[590. 580. 355. 420.]\n",
      " [240. 160. 198. 320.]\n",
      " [303. 245. 260. 360.]] \n",
      "\n",
      "Data after standardization: \n",
      " [[0.97413793 0.96661102 0.59098497 0.83134921]\n",
      " [0.37068966 0.2654424  0.32888147 0.63293651]\n",
      " [0.47931034 0.40734558 0.43238731 0.71230159]]\n"
     ]
    }
   ],
   "source": [
    "from sklearn.preprocessing import MinMaxScaler\n",
    "\n",
    "\"\"\"\n",
    "Standardization works best if the distribution of your data is\n",
    "Gaussian, because this will make data have properties of a \n",
    "standard Gaussian distribution (mean = 0 and std = 1).\n",
    "\n",
    "You can import StandardScaler to standardize data.\n",
    "\"\"\"\n",
    "\n",
    "\"\"\"\n",
    "Normalization can be used when you don't know the distribution of\n",
    "the data and/or the features have different ranges of values. \n",
    "\n",
    "You can import MinMaxScaler to normalize data.\n",
    "\"\"\"\n",
    "\n",
    "def normalize(data):\n",
    "\n",
    "    scaler = MinMaxScaler()\n",
    "\n",
    "    print('Data before standardization: \\n', data[:3], '\\n')\n",
    "\n",
    "    data = scaler.fit_transform(data)\n",
    "\n",
    "    print('Data after standardization: \\n', data[:3])\n",
    "    \n",
    "    return data\n",
    "\n",
    "data = normalize(data)"
   ]
  },
  {
   "cell_type": "markdown",
   "metadata": {},
   "source": [
    "### Let's set aside 20% of the data to be dedicated solely to testing our trained model."
   ]
  },
  {
   "cell_type": "code",
   "execution_count": 206,
   "metadata": {},
   "outputs": [],
   "source": [
    "from sklearn.model_selection import train_test_split\n",
    "\n",
    "data_train, data_test, target_train, target_test = train_test_split(data, target, test_size=0.2, random_state=98)"
   ]
  },
  {
   "cell_type": "markdown",
   "metadata": {},
   "source": [
    "### Next up is to train the model. We will use K-fold cross validation to do so. "
   ]
  },
  {
   "cell_type": "code",
   "execution_count": 207,
   "metadata": {},
   "outputs": [],
   "source": [
    "from sklearn.linear_model import LinearRegression\n",
    "from sklearn.metrics import mean_squared_error, r2_score\n",
    "from sklearn.model_selection import KFold\n",
    "from tqdm import tqdm_notebook\n",
    "\n",
    "kfold = KFold(n_splits=5, shuffle=True, random_state=98)\n",
    "\n",
    "models = []\n",
    "mses = []\n",
    "r2s = []\n",
    "\n",
    "for train_idx, val_idx in kfold.split(data_train):\n",
    "    data_tr = data_train[train_idx]\n",
    "    data_val = data_train[val_idx]\n",
    "    target_tr = target_train[train_idx]\n",
    "    target_val = target_train[val_idx]\n",
    "    \n",
    "    model = LinearRegression()\n",
    "    \n",
    "    model.fit(data_tr, target_tr)\n",
    "    \n",
    "    predictions = model.predict(data_val)\n",
    "    \n",
    "    mse = mean_squared_error(target_val, predictions)\n",
    "    \n",
    "    r2 = r2_score(target_val, predictions)\n",
    "    \n",
    "    models.append(model)\n",
    "    mses.append(mse)\n",
    "    r2s.append(r2)"
   ]
  },
  {
   "cell_type": "code",
   "execution_count": 208,
   "metadata": {},
   "outputs": [
    {
     "name": "stdout",
     "output_type": "stream",
     "text": [
      "Average mean squared error: 817.682173800897\n",
      "Average R2 score: 0.8261296742427892\n"
     ]
    }
   ],
   "source": [
    "mse = np.mean(mses)\n",
    "r2 = np.mean(r2s)\n",
    "\n",
    "print(f'Average mean squared error: {mse}')\n",
    "print(f'Average R2 score: {r2}')"
   ]
  },
  {
   "cell_type": "code",
   "execution_count": 209,
   "metadata": {},
   "outputs": [
    {
     "data": {
      "text/plain": [
       "Text(0, 0.5, 'Band rank')"
      ]
     },
     "execution_count": 209,
     "metadata": {},
     "output_type": "execute_result"
    },
    {
     "data": {
      "image/png": "[encoded data removed]",
      "text/plain": [
       "<Figure size 960x640 with 1 Axes>"
      ]
     },
     "metadata": {},
     "output_type": "display_data"
    }
   ],
   "source": [
    "import matplotlib.pyplot as plt\n",
    "\n",
    "excerpt_size = 70\n",
    "\n",
    "fig=plt.figure(figsize=(12, 8), dpi= 80, facecolor='w', edgecolor='k')\n",
    "\n",
    "plt.plot(predictions[:excerpt_size])\n",
    "plt.plot(target_val[:excerpt_size])\n",
    "plt.plot(abs(predictions-target_val)[:excerpt_size])\n",
    "\n",
    "plt.legend(['Predictions', 'Ground truth', 'Error'])\n",
    "plt.xlabel('Data point')\n",
    "plt.ylabel('Band rank')"
   ]
  },
  {
   "cell_type": "markdown",
   "metadata": {},
   "source": [
    "# 4a. Interpreting results responsibly"
   ]
  },
  {
   "cell_type": "markdown",
   "metadata": {},
   "source": [
    "### K-fold cross validation has confirmed our intuition that given the individual instrument difficulty, we can reasonably predict the band difficulty. \n",
    "\n",
    "### It's important to critique your model - not just its performance but all the design choices made leading up to measuring its performance.\n",
    "\n",
    "### If one is too eager to confirm their own hypothesis, one could start to think their model can do a lot more than it actually can. Be mindful and honest with yourself."
   ]
  },
  {
   "cell_type": "markdown",
   "metadata": {},
   "source": [
    "# 4b. Training on the full training set"
   ]
  },
  {
   "cell_type": "code",
   "execution_count": 210,
   "metadata": {},
   "outputs": [
    {
     "name": "stdout",
     "output_type": "stream",
     "text": [
      "Mean squared error: 795.1097551052441\n",
      "R2 score: 0.8143130208102731\n"
     ]
    }
   ],
   "source": [
    "model_f = LinearRegression()\n",
    "model_f.fit(data_train, target_train)\n",
    "predictions = model_f.predict(data_test)\n",
    "mse_f = mean_squared_error(predictions, target_test)\n",
    "r2_f = r2_score(predictions, target_test)\n",
    "\n",
    "print(f'Mean squared error: {mse_f}')\n",
    "print(f'R2 score: {r2_f}')"
   ]
  },
  {
   "cell_type": "code",
   "execution_count": 211,
   "metadata": {},
   "outputs": [
    {
     "data": {
      "text/plain": [
       "Text(0, 0.5, 'Band rank')"
      ]
     },
     "execution_count": 211,
     "metadata": {},
     "output_type": "execute_result"
    },
    {
     "data": {
      "image/png": "[encoded data removed]",
      "text/plain": [
       "<Figure size 960x640 with 1 Axes>"
      ]
     },
     "metadata": {},
     "output_type": "display_data"
    }
   ],
   "source": [
    "excerpt_size = 70\n",
    "\n",
    "fig=plt.figure(figsize=(12, 8), dpi= 80, facecolor='w', edgecolor='k')\n",
    "\n",
    "plt.plot(predictions[:excerpt_size])\n",
    "plt.plot(target_test[:excerpt_size])\n",
    "plt.plot(abs(predictions-target_test)[:excerpt_size])\n",
    "\n",
    "plt.legend(['Predictions', 'Ground truth', 'Error'])\n",
    "plt.xlabel('Data point')\n",
    "plt.ylabel('Band rank')"
   ]
  },
  {
   "cell_type": "markdown",
   "metadata": {},
   "source": [
    "# 5. Feature selection: Which instrument tells us the most about the band difficulty?"
   ]
  },
  {
   "cell_type": "code",
   "execution_count": 212,
   "metadata": {},
   "outputs": [],
   "source": [
    "from sklearn.feature_selection import mutual_info_regression\n",
    "\n",
    "mutual_info = mutual_info_regression(data_train, target_train)"
   ]
  },
  {
   "cell_type": "code",
   "execution_count": 213,
   "metadata": {},
   "outputs": [
    {
     "name": "stdout",
     "output_type": "stream",
     "text": [
      "Band difficulty dependency on Guitar difficulty:  \t0.599\n",
      "\n",
      "Band difficulty dependency on Drums difficulty:  \t0.566\n",
      "\n",
      "Band difficulty dependency on Bass difficulty:  \t0.492\n",
      "\n",
      "Band difficulty dependency on Vocals difficulty:  \t0.209\n",
      "\n"
     ]
    }
   ],
   "source": [
    "instruments = ['Guitar', 'Drums', 'Bass', 'Vocals']\n",
    "\n",
    "for i in range(len(instruments)):\n",
    "    print(f'Band difficulty dependency on {instruments[i]} difficulty:  \\t{mutual_info[i]:.3f}\\n')"
   ]
  },
  {
   "cell_type": "markdown",
   "metadata": {},
   "source": [
    "# 6. Feature engineering: Can we create a new feature?"
   ]
  },
  {
   "cell_type": "code",
   "execution_count": 214,
   "metadata": {},
   "outputs": [],
   "source": [
    "num_solos = np.zeros(len(df_band))\n",
    "\n",
    "i = 0\n",
    "for _, row in df_band.iterrows():\n",
    "    num_solos[i] = row['Guitar Solos'] + row['Drums Solos'] + row['Bass Solos']\n",
    "    i += 1\n",
    "\n",
    "num_solos = np.delete(num_solos, 1844)"
   ]
  },
  {
   "cell_type": "code",
   "execution_count": 215,
   "metadata": {},
   "outputs": [
    {
     "name": "stdout",
     "output_type": "stream",
     "text": [
      "[[1779]\n",
      " [1844]\n",
      " [1846]\n",
      " [1848]\n",
      " [1850]\n",
      " [1910]\n",
      " [1912]\n",
      " [1914]\n",
      " [1916]\n",
      " [1917]\n",
      " [1919]\n",
      " [1922]\n",
      " [1924]\n",
      " [1925]\n",
      " [1927]\n",
      " [1928]\n",
      " [1930]\n",
      " [1932]\n",
      " [1934]\n",
      " [1936]\n",
      " [1937]\n",
      " [1939]\n",
      " [1944]\n",
      " [1946]\n",
      " [1948]\n",
      " [1949]\n",
      " [1952]]\n"
     ]
    }
   ],
   "source": [
    "print(np.argwhere(np.isnan(num_solos)))"
   ]
  },
  {
   "cell_type": "code",
   "execution_count": 216,
   "metadata": {},
   "outputs": [
    {
     "name": "stdout",
     "output_type": "stream",
     "text": [
      "Data array size before appending new feature: (2725, 4)\n",
      "Data array size after appending new feature: (2725, 5)\n"
     ]
    }
   ],
   "source": [
    "print(f'Data array size before appending new feature: {data.shape}')\n",
    "data = np.append(data, num_solos[:, None], axis=1)\n",
    "print(f'Data array size after appending new feature: {data.shape}')"
   ]
  },
  {
   "cell_type": "code",
   "execution_count": 217,
   "metadata": {},
   "outputs": [],
   "source": [
    "rows_to_remove = [row[0] for row in np.argwhere(np.isnan(num_solos))]\n",
    "data = np.delete(data, rows_to_remove, axis=0)\n",
    "target = np.delete(target, rows_to_remove)"
   ]
  },
  {
   "cell_type": "code",
   "execution_count": 218,
   "metadata": {},
   "outputs": [
    {
     "name": "stdout",
     "output_type": "stream",
     "text": [
      "False (2698, 5)\n",
      "False (2698,)\n",
      "Remaining songs: 2698\n"
     ]
    }
   ],
   "source": [
    "print(np.isnan(data).any(), data.shape)\n",
    "print(np.isnan(target).any(), target.shape)\n",
    "num_songs = len(target)\n",
    "print(f'Remaining songs: {num_songs}')"
   ]
  },
  {
   "cell_type": "code",
   "execution_count": 219,
   "metadata": {},
   "outputs": [],
   "source": [
    "data_train_fe, data_test_fe, target_train_fe, target_test_fe = train_test_split(data, target, test_size=0.2, random_state=98)"
   ]
  },
  {
   "cell_type": "code",
   "execution_count": 220,
   "metadata": {},
   "outputs": [
    {
     "name": "stdout",
     "output_type": "stream",
     "text": [
      "Mean squared error: 761.6431267691449\n",
      "R2 score: 0.7975153532803522\n"
     ]
    }
   ],
   "source": [
    "model_fe = LinearRegression()\n",
    "model_fe.fit(data_train_fe, target_train_fe)\n",
    "predictions_fe = model_fe.predict(data_test_fe)\n",
    "mse_fe = mean_squared_error(predictions_fe, target_test_fe)\n",
    "r2_fe = r2_score(predictions_fe, target_test_fe)\n",
    "\n",
    "print(f'Mean squared error: {mse_fe}')\n",
    "print(f'R2 score: {r2_fe}')"
   ]
  },
  {
   "cell_type": "markdown",
   "metadata": {},
   "source": [
    "# Conclusion / Moving forward"
   ]
  },
  {
   "cell_type": "code",
   "execution_count": null,
   "metadata": {},
   "outputs": [],
   "source": []
  }
 ],
 "metadata": {
  "kernelspec": {
   "display_name": "Python 3",
   "language": "python",
   "name": "python3"
  },
  "language_info": {
   "codemirror_mode": {
    "name": "ipython",
    "version": 3
   },
   "file_extension": ".py",
   "mimetype": "text/x-python",
   "name": "python",
   "nbconvert_exporter": "python",
   "pygments_lexer": "ipython3",
   "version": "3.7.1"
  }
 },
 "nbformat": 4,
 "nbformat_minor": 2
}
